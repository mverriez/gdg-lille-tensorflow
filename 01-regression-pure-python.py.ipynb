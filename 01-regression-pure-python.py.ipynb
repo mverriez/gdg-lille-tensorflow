{
 "cells": [
  {
   "cell_type": "code",
   "execution_count": 1,
   "metadata": {
    "collapsed": false
   },
   "outputs": [
    {
     "name": "stdout",
     "output_type": "stream",
     "text": [
      "Weight=2330.381869\n",
      "Bias=-49683.772282\n",
      "For size=120, price=229962.052044\n",
      "For size=150, price=299873.508126\n",
      "For size=100, price=183354.414657\n"
     ]
    }
   ],
   "source": [
    "sizes=[90,120]\n",
    "prices=[160000, 230000]\n",
    "m =len(sizes)\n",
    "\n",
    "#Calculate cost\n",
    "def cost(X,y,w,b):\n",
    "    return sum([( w*X[i] + b - y[i])**2  for i in range(m)]) / (2*m)\n",
    "\n",
    "#Update weights\n",
    "def update_weights(X,y,w,b, alpha):\n",
    "    m=len(X)\n",
    "    grad_b = (1.0/m) * sum([(b + w*X[i] - y[i])for i in range(m)]) \n",
    "    grad_w = (1.0/m) * sum([(b + w*X[i] - y[i])*X[i] for i in range(m)])\n",
    "    w = w - alpha * grad_w\n",
    "    b = b - alpha * grad_b\n",
    "    return (w,b)\n",
    "\n",
    "#Train\n",
    "def train(X,y):\n",
    "    w = 0.5\n",
    "    b = 0.5\n",
    "    alpha = 0.0001\n",
    "    j = cost(X,y,w,b)\n",
    "    while(j>1000):\n",
    "        w,b = update_weights(X,y,w,b, alpha)\n",
    "        j = cost(X,y,w,b)\n",
    "    print \"Weight=%f\"%w\n",
    "    print \"Bias=%f\"%b\n",
    "    return (w,b)\n",
    "\n",
    "#Predict\n",
    "def predict(size):\n",
    "    return (size*w+b)\n",
    "\n",
    "def pretty_print(size):\n",
    "    print \"For size=%d, price=%f\"% (size, predict(size) )\n",
    "\n",
    "(w,b) = train(sizes, prices)\n",
    "\n",
    "pretty_print(120)\n",
    "pretty_print(150)    \n",
    "pretty_print(100)"
   ]
  },
  {
   "cell_type": "code",
   "execution_count": null,
   "metadata": {
    "collapsed": true
   },
   "outputs": [],
   "source": []
  }
 ],
 "metadata": {
  "kernelspec": {
   "display_name": "Python 2",
   "language": "python",
   "name": "python2"
  },
  "language_info": {
   "codemirror_mode": {
    "name": "ipython",
    "version": 2
   },
   "file_extension": ".py",
   "mimetype": "text/x-python",
   "name": "python",
   "nbconvert_exporter": "python",
   "pygments_lexer": "ipython2",
   "version": "2.7.12"
  },
  "widgets": {
   "state": {},
   "version": "1.1.2"
  }
 },
 "nbformat": 4,
 "nbformat_minor": 0
}
