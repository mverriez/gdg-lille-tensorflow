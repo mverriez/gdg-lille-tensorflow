{
 "cells": [
  {
   "cell_type": "code",
   "execution_count": null,
   "metadata": {
    "collapsed": false
   },
   "outputs": [],
   "source": [
    "import tensorflow as tf\n",
    "import matplotlib.pyplot as plt\n",
    "\n",
    "%matplotlib inline"
   ]
  },
  {
   "cell_type": "code",
   "execution_count": null,
   "metadata": {
    "collapsed": false
   },
   "outputs": [],
   "source": [
    "tf.reset_default_graph()\n",
    "\n",
    "sizes=[90.0,120.0,150]\n",
    "prices=[160000.0, 230000.0,300000.0]\n",
    "\n",
    "x_data = tf.placeholder(\"float\", name=\"Sizes\")\n",
    "y_data = tf.placeholder(\"float\", name=\"Prices\")\n",
    "\n",
    "W = tf.Variable(2000.0, name=\"weights\")\n",
    "b = tf.Variable(-40000.0, name=\"biases\")\n",
    "\n",
    "y = tf.add(tf.mul(W,x_data), b)\n",
    "\n",
    "loss = tf.reduce_mean(tf.square( y_data - y))\n",
    "optimizer = tf.train.GradientDescentOptimizer(0.00006)\n",
    "train = optimizer.minimize(loss)"
   ]
  },
  {
   "cell_type": "code",
   "execution_count": null,
   "metadata": {
    "collapsed": false
   },
   "outputs": [],
   "source": [
    "init = tf.initialize_all_variables()\n",
    "\n",
    "\n",
    "with tf.Session() as sess :\n",
    "    sess.run(init)\n",
    "    losses = []\n",
    "    for step in xrange(100000):\n",
    "        sess.run(train, feed_dict={x_data:sizes, y_data:prices})\n",
    "        _w = sess.run(W)\n",
    "        _b = sess.run(b)\n",
    "        _loss = sess.run(loss, feed_dict={x_data:sizes, y_data:prices})\n",
    "        losses.append(_loss)\n",
    "\n",
    "        \n",
    "        estimated = [_w * s + _b for s in sizes]\n",
    "        if (step % 10000 == 0):\n",
    "            plt.plot(sizes, prices)\n",
    "            plt.plot(sizes, estimated)\n",
    "            plt.ylabel('Prices')\n",
    "            plt.xlabel('Sizes')\n",
    "            plt.show()\n",
    "            print _w,_b\n",
    "    plt.plot(losses)\n",
    "    plt.show()\n",
    "    print _w,_b\n",
    "\n",
    "\n"
   ]
  },
  {
   "cell_type": "code",
   "execution_count": null,
   "metadata": {
    "collapsed": false
   },
   "outputs": [],
   "source": [
    "120 * 1868 -91"
   ]
  },
  {
   "cell_type": "code",
   "execution_count": null,
   "metadata": {
    "collapsed": true
   },
   "outputs": [],
   "source": []
  }
 ],
 "metadata": {
  "kernelspec": {
   "display_name": "Python 2",
   "language": "python",
   "name": "python2"
  },
  "language_info": {
   "codemirror_mode": {
    "name": "ipython",
    "version": 2
   },
   "file_extension": ".py",
   "mimetype": "text/x-python",
   "name": "python",
   "nbconvert_exporter": "python",
   "pygments_lexer": "ipython2",
   "version": "2.7.12"
  },
  "widgets": {
   "state": {},
   "version": "1.1.2"
  }
 },
 "nbformat": 4,
 "nbformat_minor": 0
}
