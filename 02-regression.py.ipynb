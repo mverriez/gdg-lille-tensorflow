{
 "cells": [
  {
   "cell_type": "code",
   "execution_count": 1,
   "metadata": {
    "collapsed": false
   },
   "outputs": [
    {
     "name": "stderr",
     "output_type": "stream",
     "text": [
      "/usr/lib/python2.7/site-packages/matplotlib/axes/_axes.py:519: UserWarning: No labelled objects found. Use label='...' kwarg on individual plots.\n",
      "  warnings.warn(\"No labelled objects found. \"\n"
     ]
    },
    {
     "data": {
      "image/png": "[encoded data removed]",
      "text/plain": [
       "<matplotlib.figure.Figure at 0x7f417ffcdd50>"
      ]
     },
     "metadata": {},
     "output_type": "display_data"
    }
   ],
   "source": [
    "import numpy as np\n",
    "\n",
    "num_points = 100\n",
    "points = []\n",
    "for i in xrange(num_points):\n",
    "\tx1= np.random.normal(0.0, 0.9)\n",
    "\ty1= x1 * 0.1 + 0.3 + np.random.normal(0.0, 0.05)\n",
    "\tpoints.append([x1, y1])\n",
    "\n",
    "x_data = [v[0] for v in points]\n",
    "y_data = [v[1] for v in points]\n",
    "\n",
    "\n",
    "import matplotlib.pyplot as plt\n",
    "%matplotlib inline\n",
    "#Graphic display\n",
    "plt.plot(x_data, y_data, 'ro')\n",
    "plt.legend()\n",
    "plt.show()\n",
    "\n"
   ]
  },
  {
   "cell_type": "code",
   "execution_count": 2,
   "metadata": {
    "collapsed": false
   },
   "outputs": [
    {
     "name": "stdout",
     "output_type": "stream",
     "text": [
      "(0, array([ 0.33083868], dtype=float32), array([ 0.1132098], dtype=float32))\n",
      "(10, array([ 0.1087888], dtype=float32), array([ 0.2961708], dtype=float32))\n",
      "(20, array([ 0.10878628], dtype=float32), array([ 0.29617244], dtype=float32))\n",
      "(30, array([ 0.10878628], dtype=float32), array([ 0.29617244], dtype=float32))\n",
      "(40, array([ 0.10878628], dtype=float32), array([ 0.29617244], dtype=float32))\n",
      "(50, array([ 0.10878628], dtype=float32), array([ 0.29617244], dtype=float32))\n",
      "(60, array([ 0.10878628], dtype=float32), array([ 0.29617244], dtype=float32))\n",
      "(70, array([ 0.10878628], dtype=float32), array([ 0.29617244], dtype=float32))\n",
      "(80, array([ 0.10878628], dtype=float32), array([ 0.29617244], dtype=float32))\n",
      "(90, array([ 0.10878628], dtype=float32), array([ 0.29617244], dtype=float32))\n",
      "(100, array([ 0.10878628], dtype=float32), array([ 0.29617244], dtype=float32))\n"
     ]
    },
    {
     "data": {
      "image/png": "[encoded data removed]",
      "text/plain": [
       "<matplotlib.figure.Figure at 0x7f416c0ff4d0>"
      ]
     },
     "metadata": {},
     "output_type": "display_data"
    }
   ],
   "source": [
    "import tensorflow as tf\n",
    "\n",
    "\n",
    "W = tf.Variable(tf.random_uniform([1], -1.0, 1.0))\n",
    "b = tf.Variable(tf.zeros([1]))\n",
    "y = W * x_data + b\n",
    "\n",
    "loss = tf.reduce_mean(tf.square(y - y_data))\n",
    "optimizer = tf.train.GradientDescentOptimizer(0.5)\n",
    "train = optimizer.minimize(loss)\n",
    "\n",
    "init = tf.initialize_all_variables()\n",
    "\n",
    "sess = tf.Session()\n",
    "sess.run(init)\n",
    "\n",
    "for step in xrange(101):\n",
    "    sess.run(train)\n",
    "    if step % 10 == 0:\n",
    "        print(step, sess.run(W), sess.run(b))\n",
    "\n",
    "plt.plot(x_data, y_data, 'ro')\n",
    "plt.plot(x_data, sess.run(W) * x_data + sess.run(b))\n",
    "plt.legend()\n",
    "plt.show()"
   ]
  },
  {
   "cell_type": "code",
   "execution_count": null,
   "metadata": {
    "collapsed": true
   },
   "outputs": [],
   "source": []
  }
 ],
 "metadata": {
  "kernelspec": {
   "display_name": "Python 2",
   "language": "python",
   "name": "python2"
  },
  "language_info": {
   "codemirror_mode": {
    "name": "ipython",
    "version": 2
   },
   "file_extension": ".py",
   "mimetype": "text/x-python",
   "name": "python",
   "nbconvert_exporter": "python",
   "pygments_lexer": "ipython2",
   "version": "2.7.11"
  }
 },
 "nbformat": 4,
 "nbformat_minor": 0
}
